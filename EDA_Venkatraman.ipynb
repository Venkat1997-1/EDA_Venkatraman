{
 "cells": [
  {
   "cell_type": "code",
   "execution_count": 148,
   "id": "c984a2ef-39a3-4dee-a849-24d8b7183200",
   "metadata": {},
   "outputs": [
    {
     "data": {
      "text/html": [
       "<div>\n",
       "<style scoped>\n",
       "    .dataframe tbody tr th:only-of-type {\n",
       "        vertical-align: middle;\n",
       "    }\n",
       "\n",
       "    .dataframe tbody tr th {\n",
       "        vertical-align: top;\n",
       "    }\n",
       "\n",
       "    .dataframe thead th {\n",
       "        text-align: right;\n",
       "    }\n",
       "</style>\n",
       "<table border=\"1\" class=\"dataframe\">\n",
       "  <thead>\n",
       "    <tr style=\"text-align: right;\">\n",
       "      <th></th>\n",
       "      <th>attrition</th>\n",
       "      <th>performance_rating</th>\n",
       "      <th>sales_quota_pct</th>\n",
       "      <th>recruiting_source</th>\n",
       "    </tr>\n",
       "  </thead>\n",
       "  <tbody>\n",
       "    <tr>\n",
       "      <th>0</th>\n",
       "      <td>0.000707</td>\n",
       "      <td>2.976686</td>\n",
       "      <td>0.604739</td>\n",
       "      <td>Applied Online</td>\n",
       "    </tr>\n",
       "    <tr>\n",
       "      <th>1</th>\n",
       "      <td>-0.019452</td>\n",
       "      <td>2.989157</td>\n",
       "      <td>0.396567</td>\n",
       "      <td>NaN</td>\n",
       "    </tr>\n",
       "    <tr>\n",
       "      <th>2</th>\n",
       "      <td>-0.009998</td>\n",
       "      <td>2.993355</td>\n",
       "      <td>0.206242</td>\n",
       "      <td>Applied Online</td>\n",
       "    </tr>\n",
       "    <tr>\n",
       "      <th>3</th>\n",
       "      <td>-0.003004</td>\n",
       "      <td>1.989966</td>\n",
       "      <td>-0.475037</td>\n",
       "      <td>NaN</td>\n",
       "    </tr>\n",
       "    <tr>\n",
       "      <th>4</th>\n",
       "      <td>-0.025405</td>\n",
       "      <td>3.016559</td>\n",
       "      <td>0.345470</td>\n",
       "      <td>Campus</td>\n",
       "    </tr>\n",
       "  </tbody>\n",
       "</table>\n",
       "</div>"
      ],
      "text/plain": [
       "   attrition  performance_rating  sales_quota_pct recruiting_source\n",
       "0   0.000707            2.976686         0.604739    Applied Online\n",
       "1  -0.019452            2.989157         0.396567               NaN\n",
       "2  -0.009998            2.993355         0.206242    Applied Online\n",
       "3  -0.003004            1.989966        -0.475037               NaN\n",
       "4  -0.025405            3.016559         0.345470            Campus"
      ]
     },
     "execution_count": 148,
     "metadata": {},
     "output_type": "execute_result"
    }
   ],
   "source": [
    "import numpy as np\n",
    "import pandas as pd\n",
    "\n",
    "df = pd.read_csv(\"Recruitment_Data_updated.csv\")\n",
    "df.head()"
   ]
  },
  {
   "cell_type": "code",
   "execution_count": 149,
   "id": "8198e3d3-f0ac-4f3d-9a5a-675ed261ef4c",
   "metadata": {},
   "outputs": [
    {
     "data": {
      "text/plain": [
       "(107354, 4)"
      ]
     },
     "execution_count": 149,
     "metadata": {},
     "output_type": "execute_result"
    }
   ],
   "source": [
    "df.shape"
   ]
  },
  {
   "cell_type": "code",
   "execution_count": 157,
   "id": "e83f6950-dfc9-4585-aeab-b01f1b8ee780",
   "metadata": {},
   "outputs": [
    {
     "name": "stdout",
     "output_type": "stream",
     "text": [
      "attrition             0\n",
      "performance_rating    0\n",
      "sales_quota_pct       0\n",
      "recruiting_source     0\n",
      "dtype: int64\n"
     ]
    }
   ],
   "source": [
    "# Checking for null values in the columns.\n",
    "null_values = df.isnull().sum() \n",
    "print(null_values)"
   ]
  },
  {
   "cell_type": "code",
   "execution_count": 156,
   "id": "cf13e57a-ba56-452f-8536-50d4b7221f55",
   "metadata": {},
   "outputs": [],
   "source": [
    "# Recruitment source has around 45% null values. Replacing them with Unknown to keep data. \n",
    "df['recruiting_source'].fillna('unknown', inplace=True)"
   ]
  },
  {
   "cell_type": "code",
   "execution_count": 158,
   "id": "f5193056-ae2a-4dba-bf3a-5196a8f49e98",
   "metadata": {},
   "outputs": [
    {
     "name": "stdout",
     "output_type": "stream",
     "text": [
      "recruiting_source\n",
      "Referral          2.906395\n",
      "Search Firm       2.897311\n",
      "unknown           2.895248\n",
      "Campus            2.893206\n",
      "Applied Online    2.891409\n",
      "Name: performance_rating, dtype: float64\n"
     ]
    }
   ],
   "source": [
    "## I am analyzing the average performance rating segmented by recruitment source.\n",
    "attrition_summary_1 = df.groupby('recruiting_source')['performance_rating'].mean()\n",
    "attrition_summary_1_sorted = attrition_summary_1.sort_values(ascending=False)\n",
    "print(attrition_summary_1_sorted)"
   ]
  },
  {
   "cell_type": "code",
   "execution_count": 160,
   "id": "bb1e9248-f693-4fc0-bf5b-590748cdff44",
   "metadata": {},
   "outputs": [
    {
     "name": "stdout",
     "output_type": "stream",
     "text": [
      "recruiting_source\n",
      "Search Firm       1.103426\n",
      "unknown           1.085862\n",
      "Applied Online    1.080959\n",
      "Campus            1.076408\n",
      "Referral          1.075538\n",
      "Name: sales_quota_pct, dtype: float64\n"
     ]
    }
   ],
   "source": [
    "# I am analyzing the average sales segmented by recruitment source.\n",
    "attrition_summary_2 = df.groupby('recruiting_source')['sales_quota_pct'].mean() \n",
    "# Sort the DataFrame by 'sales_quota_pct' in descending order\n",
    "attrition_summary_2_sorted = attrition_summary_2.sort_values(ascending=False)\n",
    "print(attrition_summary_2_sorted)"
   ]
  },
  {
   "cell_type": "code",
   "execution_count": 161,
   "id": "503b2d73-2ea3-478d-8c41-5e387679687e",
   "metadata": {},
   "outputs": [
    {
     "name": "stdout",
     "output_type": "stream",
     "text": [
      "recruiting_source\n",
      "Search Firm       1.103426\n",
      "unknown           1.085862\n",
      "Applied Online    1.080959\n",
      "Campus            1.076408\n",
      "Referral          1.075538\n",
      "Name: sales_quota_pct, dtype: float64\n"
     ]
    }
   ],
   "source": [
    "# I am analyzing the average attrition rate segmented by recruitment source.\n",
    "attrition_summary_3 = df.groupby('recruiting_source')['attrition'].mean() \n",
    "# Sort the DataFrame by 'sales_quota_pct' in descending order\n",
    "attrition_summary_3_sorted = attrition_summary_2.sort_values(ascending=False)\n",
    "print(attrition_summary_3_sorted)"
   ]
  },
  {
   "cell_type": "code",
   "execution_count": 144,
   "id": "cbf362ad-020c-44da-b82e-d4cf6993fba8",
   "metadata": {},
   "outputs": [
    {
     "name": "stdout",
     "output_type": "stream",
     "text": [
      "Recruiting source with the least attrition and highest performance rating & sales quota pct:\n",
      "                   performance_rating  sales_quota_pct  attrition\n",
      "recruiting_source                                                \n",
      "Search Firm                  2.897311         1.103426   0.208177\n",
      "unknown                      2.895248         1.085862   0.212437\n",
      "Applied Online               2.891409         1.080959   0.213370\n",
      "Referral                     2.906395         1.075538   0.214920\n",
      "Campus                       2.893206         1.076408   0.215109\n"
     ]
    }
   ],
   "source": [
    "# To find the recruitment_source with the lowest attrition rate with the highest performance_rating and Sales_quota_pct, \n",
    "# I am Combining the three aggregated Series into a single data frame and identifying the recruiting source that meets the criteria.\n",
    "\n",
    "# Aggregating metrics\n",
    "attrition_summary_1 = df.groupby('recruiting_source')['performance_rating'].mean()\n",
    "attrition_summary_2 = df.groupby('recruiting_source')['sales_quota_pct'].mean()\n",
    "attrition_summary_3 = df.groupby('recruiting_source')['attrition'].mean()\n",
    "\n",
    "# Combining the results into a single DataFrame\n",
    "summary_df = pd.DataFrame({\n",
    "    'performance_rating': attrition_summary_1,\n",
    "    'sales_quota_pct': attrition_summary_2,\n",
    "    'attrition': attrition_summary_3\n",
    "})\n",
    "\n",
    "# Sorting the DataFrame by the desired criteria\n",
    "summary_df_sorted = summary_df.sort_values(by=['attrition', 'performance_rating', 'sales_quota_pct'], \n",
    "                                           ascending=[True, False, False])\n",
    "\n",
    "# Displaying the recruitment source with the least attrition and highest performance/sales quota pct\n",
    "best_recruiting_source = summary_df_sorted.head()\n",
    "print(\"Recruiting source with the least attrition and highest performance rating & sales quota pct:\")\n",
    "print(best_recruiting_source)"
   ]
  },
  {
   "cell_type": "code",
   "execution_count": null,
   "id": "326984a3-d33b-4779-a914-8264897c56eb",
   "metadata": {},
   "outputs": [],
   "source": [
    "# The analysis shows that \"search firm\" is the best recruitment source with high-performance ratings, high sales, and less attrition.\n",
    "# The sales number also indicates that the \"search firm\" has the highest sales of all the recruitment sources.S"
   ]
  }
 ],
 "metadata": {
  "kernelspec": {
   "display_name": "Python 3 (ipykernel)",
   "language": "python",
   "name": "python3"
  },
  "language_info": {
   "codemirror_mode": {
    "name": "ipython",
    "version": 3
   },
   "file_extension": ".py",
   "mimetype": "text/x-python",
   "name": "python",
   "nbconvert_exporter": "python",
   "pygments_lexer": "ipython3",
   "version": "3.12.4"
  }
 },
 "nbformat": 4,
 "nbformat_minor": 5
}
